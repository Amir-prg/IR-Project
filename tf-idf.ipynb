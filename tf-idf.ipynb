{
  "cells": [
    {
      "cell_type": "markdown",
      "metadata": {
        "id": "3c9t1slDobAd"
      },
      "source": [
        "## **import packages**"
      ]
    },
    {
      "cell_type": "code",
      "execution_count": 1,
      "metadata": {
        "id": "n7aCxkU4ohNy"
      },
      "outputs": [],
      "source": [
        "import pandas as pd\n",
        "from sklearn.feature_extraction.text import TfidfVectorizer\n",
        "from sklearn.metrics.pairwise import cosine_similarity\n",
        "from tqdm import tqdm\n",
        "import numpy as np\n"
      ]
    },
    {
      "cell_type": "markdown",
      "metadata": {
        "id": "MUwZiSZHokXy"
      },
      "source": [
        "## **Read & Load Data**"
      ]
    },
    {
      "cell_type": "code",
      "execution_count": 2,
      "metadata": {
        "id": "U4VNPV7qoq5O"
      },
      "outputs": [
        {
          "ename": "FileNotFoundError",
          "evalue": "[Errno 2] No such file or directory: 'varzesh3.csv'",
          "output_type": "error",
          "traceback": [
            "\u001b[1;31m---------------------------------------------------------------------------\u001b[0m",
            "\u001b[1;31mFileNotFoundError\u001b[0m                         Traceback (most recent call last)",
            "\u001b[1;32mc:\\Users\\YAS\\Documents\\IR-Project\\tf-idf.ipynb Cell 4'\u001b[0m in \u001b[0;36m<cell line: 1>\u001b[1;34m()\u001b[0m\n\u001b[1;32m----> <a href='vscode-notebook-cell:/c%3A/Users/YAS/Documents/IR-Project/tf-idf.ipynb#ch0000003?line=0'>1</a>\u001b[0m main_doc \u001b[39m=\u001b[39m pd\u001b[39m.\u001b[39;49mread_csv(\u001b[39m\"\u001b[39;49m\u001b[39mvarzesh3.csv\u001b[39;49m\u001b[39m\"\u001b[39;49m) \n\u001b[0;32m      <a href='vscode-notebook-cell:/c%3A/Users/YAS/Documents/IR-Project/tf-idf.ipynb#ch0000003?line=1'>2</a>\u001b[0m doc \u001b[39m=\u001b[39m main_doc\u001b[39m.\u001b[39mget(key\u001b[39m=\u001b[39m\u001b[39m'\u001b[39m\u001b[39mtitle\u001b[39m\u001b[39m'\u001b[39m)\n",
            "File \u001b[1;32mc:\\Users\\YAS\\AppData\\Local\\Programs\\Python\\Python310\\lib\\site-packages\\pandas\\util\\_decorators.py:311\u001b[0m, in \u001b[0;36mdeprecate_nonkeyword_arguments.<locals>.decorate.<locals>.wrapper\u001b[1;34m(*args, **kwargs)\u001b[0m\n\u001b[0;32m    305\u001b[0m \u001b[39mif\u001b[39;00m \u001b[39mlen\u001b[39m(args) \u001b[39m>\u001b[39m num_allow_args:\n\u001b[0;32m    306\u001b[0m     warnings\u001b[39m.\u001b[39mwarn(\n\u001b[0;32m    307\u001b[0m         msg\u001b[39m.\u001b[39mformat(arguments\u001b[39m=\u001b[39marguments),\n\u001b[0;32m    308\u001b[0m         \u001b[39mFutureWarning\u001b[39;00m,\n\u001b[0;32m    309\u001b[0m         stacklevel\u001b[39m=\u001b[39mstacklevel,\n\u001b[0;32m    310\u001b[0m     )\n\u001b[1;32m--> 311\u001b[0m \u001b[39mreturn\u001b[39;00m func(\u001b[39m*\u001b[39margs, \u001b[39m*\u001b[39m\u001b[39m*\u001b[39mkwargs)\n",
            "File \u001b[1;32mc:\\Users\\YAS\\AppData\\Local\\Programs\\Python\\Python310\\lib\\site-packages\\pandas\\io\\parsers\\readers.py:680\u001b[0m, in \u001b[0;36mread_csv\u001b[1;34m(filepath_or_buffer, sep, delimiter, header, names, index_col, usecols, squeeze, prefix, mangle_dupe_cols, dtype, engine, converters, true_values, false_values, skipinitialspace, skiprows, skipfooter, nrows, na_values, keep_default_na, na_filter, verbose, skip_blank_lines, parse_dates, infer_datetime_format, keep_date_col, date_parser, dayfirst, cache_dates, iterator, chunksize, compression, thousands, decimal, lineterminator, quotechar, quoting, doublequote, escapechar, comment, encoding, encoding_errors, dialect, error_bad_lines, warn_bad_lines, on_bad_lines, delim_whitespace, low_memory, memory_map, float_precision, storage_options)\u001b[0m\n\u001b[0;32m    665\u001b[0m kwds_defaults \u001b[39m=\u001b[39m _refine_defaults_read(\n\u001b[0;32m    666\u001b[0m     dialect,\n\u001b[0;32m    667\u001b[0m     delimiter,\n\u001b[1;32m   (...)\u001b[0m\n\u001b[0;32m    676\u001b[0m     defaults\u001b[39m=\u001b[39m{\u001b[39m\"\u001b[39m\u001b[39mdelimiter\u001b[39m\u001b[39m\"\u001b[39m: \u001b[39m\"\u001b[39m\u001b[39m,\u001b[39m\u001b[39m\"\u001b[39m},\n\u001b[0;32m    677\u001b[0m )\n\u001b[0;32m    678\u001b[0m kwds\u001b[39m.\u001b[39mupdate(kwds_defaults)\n\u001b[1;32m--> 680\u001b[0m \u001b[39mreturn\u001b[39;00m _read(filepath_or_buffer, kwds)\n",
            "File \u001b[1;32mc:\\Users\\YAS\\AppData\\Local\\Programs\\Python\\Python310\\lib\\site-packages\\pandas\\io\\parsers\\readers.py:575\u001b[0m, in \u001b[0;36m_read\u001b[1;34m(filepath_or_buffer, kwds)\u001b[0m\n\u001b[0;32m    572\u001b[0m _validate_names(kwds\u001b[39m.\u001b[39mget(\u001b[39m\"\u001b[39m\u001b[39mnames\u001b[39m\u001b[39m\"\u001b[39m, \u001b[39mNone\u001b[39;00m))\n\u001b[0;32m    574\u001b[0m \u001b[39m# Create the parser.\u001b[39;00m\n\u001b[1;32m--> 575\u001b[0m parser \u001b[39m=\u001b[39m TextFileReader(filepath_or_buffer, \u001b[39m*\u001b[39m\u001b[39m*\u001b[39mkwds)\n\u001b[0;32m    577\u001b[0m \u001b[39mif\u001b[39;00m chunksize \u001b[39mor\u001b[39;00m iterator:\n\u001b[0;32m    578\u001b[0m     \u001b[39mreturn\u001b[39;00m parser\n",
            "File \u001b[1;32mc:\\Users\\YAS\\AppData\\Local\\Programs\\Python\\Python310\\lib\\site-packages\\pandas\\io\\parsers\\readers.py:933\u001b[0m, in \u001b[0;36mTextFileReader.__init__\u001b[1;34m(self, f, engine, **kwds)\u001b[0m\n\u001b[0;32m    930\u001b[0m     \u001b[39mself\u001b[39m\u001b[39m.\u001b[39moptions[\u001b[39m\"\u001b[39m\u001b[39mhas_index_names\u001b[39m\u001b[39m\"\u001b[39m] \u001b[39m=\u001b[39m kwds[\u001b[39m\"\u001b[39m\u001b[39mhas_index_names\u001b[39m\u001b[39m\"\u001b[39m]\n\u001b[0;32m    932\u001b[0m \u001b[39mself\u001b[39m\u001b[39m.\u001b[39mhandles: IOHandles \u001b[39m|\u001b[39m \u001b[39mNone\u001b[39;00m \u001b[39m=\u001b[39m \u001b[39mNone\u001b[39;00m\n\u001b[1;32m--> 933\u001b[0m \u001b[39mself\u001b[39m\u001b[39m.\u001b[39m_engine \u001b[39m=\u001b[39m \u001b[39mself\u001b[39;49m\u001b[39m.\u001b[39;49m_make_engine(f, \u001b[39mself\u001b[39;49m\u001b[39m.\u001b[39;49mengine)\n",
            "File \u001b[1;32mc:\\Users\\YAS\\AppData\\Local\\Programs\\Python\\Python310\\lib\\site-packages\\pandas\\io\\parsers\\readers.py:1217\u001b[0m, in \u001b[0;36mTextFileReader._make_engine\u001b[1;34m(self, f, engine)\u001b[0m\n\u001b[0;32m   1213\u001b[0m     mode \u001b[39m=\u001b[39m \u001b[39m\"\u001b[39m\u001b[39mrb\u001b[39m\u001b[39m\"\u001b[39m\n\u001b[0;32m   1214\u001b[0m \u001b[39m# error: No overload variant of \"get_handle\" matches argument types\u001b[39;00m\n\u001b[0;32m   1215\u001b[0m \u001b[39m# \"Union[str, PathLike[str], ReadCsvBuffer[bytes], ReadCsvBuffer[str]]\"\u001b[39;00m\n\u001b[0;32m   1216\u001b[0m \u001b[39m# , \"str\", \"bool\", \"Any\", \"Any\", \"Any\", \"Any\", \"Any\"\u001b[39;00m\n\u001b[1;32m-> 1217\u001b[0m \u001b[39mself\u001b[39m\u001b[39m.\u001b[39mhandles \u001b[39m=\u001b[39m get_handle(  \u001b[39m# type: ignore[call-overload]\u001b[39;49;00m\n\u001b[0;32m   1218\u001b[0m     f,\n\u001b[0;32m   1219\u001b[0m     mode,\n\u001b[0;32m   1220\u001b[0m     encoding\u001b[39m=\u001b[39;49m\u001b[39mself\u001b[39;49m\u001b[39m.\u001b[39;49moptions\u001b[39m.\u001b[39;49mget(\u001b[39m\"\u001b[39;49m\u001b[39mencoding\u001b[39;49m\u001b[39m\"\u001b[39;49m, \u001b[39mNone\u001b[39;49;00m),\n\u001b[0;32m   1221\u001b[0m     compression\u001b[39m=\u001b[39;49m\u001b[39mself\u001b[39;49m\u001b[39m.\u001b[39;49moptions\u001b[39m.\u001b[39;49mget(\u001b[39m\"\u001b[39;49m\u001b[39mcompression\u001b[39;49m\u001b[39m\"\u001b[39;49m, \u001b[39mNone\u001b[39;49;00m),\n\u001b[0;32m   1222\u001b[0m     memory_map\u001b[39m=\u001b[39;49m\u001b[39mself\u001b[39;49m\u001b[39m.\u001b[39;49moptions\u001b[39m.\u001b[39;49mget(\u001b[39m\"\u001b[39;49m\u001b[39mmemory_map\u001b[39;49m\u001b[39m\"\u001b[39;49m, \u001b[39mFalse\u001b[39;49;00m),\n\u001b[0;32m   1223\u001b[0m     is_text\u001b[39m=\u001b[39;49mis_text,\n\u001b[0;32m   1224\u001b[0m     errors\u001b[39m=\u001b[39;49m\u001b[39mself\u001b[39;49m\u001b[39m.\u001b[39;49moptions\u001b[39m.\u001b[39;49mget(\u001b[39m\"\u001b[39;49m\u001b[39mencoding_errors\u001b[39;49m\u001b[39m\"\u001b[39;49m, \u001b[39m\"\u001b[39;49m\u001b[39mstrict\u001b[39;49m\u001b[39m\"\u001b[39;49m),\n\u001b[0;32m   1225\u001b[0m     storage_options\u001b[39m=\u001b[39;49m\u001b[39mself\u001b[39;49m\u001b[39m.\u001b[39;49moptions\u001b[39m.\u001b[39;49mget(\u001b[39m\"\u001b[39;49m\u001b[39mstorage_options\u001b[39;49m\u001b[39m\"\u001b[39;49m, \u001b[39mNone\u001b[39;49;00m),\n\u001b[0;32m   1226\u001b[0m )\n\u001b[0;32m   1227\u001b[0m \u001b[39massert\u001b[39;00m \u001b[39mself\u001b[39m\u001b[39m.\u001b[39mhandles \u001b[39mis\u001b[39;00m \u001b[39mnot\u001b[39;00m \u001b[39mNone\u001b[39;00m\n\u001b[0;32m   1228\u001b[0m f \u001b[39m=\u001b[39m \u001b[39mself\u001b[39m\u001b[39m.\u001b[39mhandles\u001b[39m.\u001b[39mhandle\n",
            "File \u001b[1;32mc:\\Users\\YAS\\AppData\\Local\\Programs\\Python\\Python310\\lib\\site-packages\\pandas\\io\\common.py:789\u001b[0m, in \u001b[0;36mget_handle\u001b[1;34m(path_or_buf, mode, encoding, compression, memory_map, is_text, errors, storage_options)\u001b[0m\n\u001b[0;32m    784\u001b[0m \u001b[39melif\u001b[39;00m \u001b[39misinstance\u001b[39m(handle, \u001b[39mstr\u001b[39m):\n\u001b[0;32m    785\u001b[0m     \u001b[39m# Check whether the filename is to be opened in binary mode.\u001b[39;00m\n\u001b[0;32m    786\u001b[0m     \u001b[39m# Binary mode does not support 'encoding' and 'newline'.\u001b[39;00m\n\u001b[0;32m    787\u001b[0m     \u001b[39mif\u001b[39;00m ioargs\u001b[39m.\u001b[39mencoding \u001b[39mand\u001b[39;00m \u001b[39m\"\u001b[39m\u001b[39mb\u001b[39m\u001b[39m\"\u001b[39m \u001b[39mnot\u001b[39;00m \u001b[39min\u001b[39;00m ioargs\u001b[39m.\u001b[39mmode:\n\u001b[0;32m    788\u001b[0m         \u001b[39m# Encoding\u001b[39;00m\n\u001b[1;32m--> 789\u001b[0m         handle \u001b[39m=\u001b[39m \u001b[39mopen\u001b[39;49m(\n\u001b[0;32m    790\u001b[0m             handle,\n\u001b[0;32m    791\u001b[0m             ioargs\u001b[39m.\u001b[39;49mmode,\n\u001b[0;32m    792\u001b[0m             encoding\u001b[39m=\u001b[39;49mioargs\u001b[39m.\u001b[39;49mencoding,\n\u001b[0;32m    793\u001b[0m             errors\u001b[39m=\u001b[39;49merrors,\n\u001b[0;32m    794\u001b[0m             newline\u001b[39m=\u001b[39;49m\u001b[39m\"\u001b[39;49m\u001b[39m\"\u001b[39;49m,\n\u001b[0;32m    795\u001b[0m         )\n\u001b[0;32m    796\u001b[0m     \u001b[39melse\u001b[39;00m:\n\u001b[0;32m    797\u001b[0m         \u001b[39m# Binary mode\u001b[39;00m\n\u001b[0;32m    798\u001b[0m         handle \u001b[39m=\u001b[39m \u001b[39mopen\u001b[39m(handle, ioargs\u001b[39m.\u001b[39mmode)\n",
            "\u001b[1;31mFileNotFoundError\u001b[0m: [Errno 2] No such file or directory: 'varzesh3.csv'"
          ]
        }
      ],
      "source": [
        "main_doc = pd.read_csv(\"varzesh3.csv\") \n",
        "doc = main_doc.get(key='title')\n"
      ]
    },
    {
      "cell_type": "markdown",
      "metadata": {
        "id": "m4p7fUTzpAXA"
      },
      "source": [
        "## **Tf-idf vectorization**"
      ]
    },
    {
      "cell_type": "code",
      "execution_count": null,
      "metadata": {
        "colab": {
          "base_uri": "https://localhost:8080/"
        },
        "id": "DK6UJ-znpCs6",
        "outputId": "aa6d006c-d130-4f1c-eb26-1b501ba4216c"
      },
      "outputs": [
        {
          "data": {
            "text/plain": [
              "{'500': 0,\n",
              " 'آقاسی': 1,\n",
              " 'آمریکا': 2,\n",
              " 'احساسی': 3,\n",
              " 'از': 4,\n",
              " 'است': 5,\n",
              " 'استارت': 6,\n",
              " 'استقلال': 7,\n",
              " 'اسکوچیچ': 8,\n",
              " 'اضافه': 9,\n",
              " 'ام': 10,\n",
              " 'انتخاب': 11,\n",
              " 'انتخابات': 12,\n",
              " 'انگاپت': 13,\n",
              " 'اول': 14,\n",
              " 'ایران': 15,\n",
              " 'با': 16,\n",
              " 'باروز': 17,\n",
              " 'باید': 18,\n",
              " 'با۳': 19,\n",
              " 'برای': 20,\n",
              " 'برنده': 21,\n",
              " 'برگزاری': 22,\n",
              " 'بزرگ': 23,\n",
              " 'بلژیک': 24,\n",
              " 'به': 25,\n",
              " 'بگیریم': 26,\n",
              " 'بیل': 27,\n",
              " 'تمرین': 28,\n",
              " 'توضیح': 29,\n",
              " 'توفان': 30,\n",
              " 'تیلور': 31,\n",
              " 'تیم': 32,\n",
              " 'تیمی': 33,\n",
              " 'جام': 34,\n",
              " 'جهانی': 35,\n",
              " 'جهنم': 36,\n",
              " 'حسن': 37,\n",
              " 'خانه': 38,\n",
              " 'خندان': 39,\n",
              " 'داخل': 40,\n",
              " 'دادیم': 41,\n",
              " 'در': 42,\n",
              " 'درباره': 43,\n",
              " 'درخشش': 44,\n",
              " 'دروغ': 45,\n",
              " 'دوبنده': 46,\n",
              " 'دور': 47,\n",
              " 'دوچرخه': 48,\n",
              " 'رئال': 49,\n",
              " 'را': 50,\n",
              " 'رادار': 51,\n",
              " 'رسمی': 52,\n",
              " 'رسید': 53,\n",
              " 'رفته': 54,\n",
              " 'رفقا': 55,\n",
              " 'رقابت': 56,\n",
              " 'روبرتو': 57,\n",
              " 'رودیگر': 58,\n",
              " 'رونالدو': 59,\n",
              " 'رکورد': 60,\n",
              " 'زور': 61,\n",
              " 'ستارگان': 62,\n",
              " 'سردار': 63,\n",
              " 'سرمربی': 64,\n",
              " 'سلتیکس': 65,\n",
              " 'سه': 66,\n",
              " 'سوارکاری': 67,\n",
              " 'سواری': 68,\n",
              " 'سیاه': 69,\n",
              " 'شد': 70,\n",
              " 'شدند': 71,\n",
              " 'شریفی': 72,\n",
              " 'ششمی': 73,\n",
              " 'شماره': 74,\n",
              " 'شیاطین': 75,\n",
              " 'صدرنشینی': 76,\n",
              " 'عبدالعزیز': 77,\n",
              " 'عجیب': 78,\n",
              " 'علت': 79,\n",
              " 'علیه': 80,\n",
              " 'عکس': 81,\n",
              " 'فاتح': 82,\n",
              " 'قدرت': 83,\n",
              " 'قطر': 84,\n",
              " 'لهستان': 85,\n",
              " 'لوا': 86,\n",
              " 'لیگ': 87,\n",
              " 'مارتینز': 88,\n",
              " 'متوجه': 89,\n",
              " 'مدافع': 90,\n",
              " 'معنای': 91,\n",
              " 'مقصد': 92,\n",
              " 'ملت': 93,\n",
              " 'ملی': 94,\n",
              " 'مهدی': 95,\n",
              " 'نرسید': 96,\n",
              " 'نشان': 97,\n",
              " 'نشانه': 98,\n",
              " 'نشده': 99,\n",
              " 'نیشیدا': 100,\n",
              " 'نیمیر': 101,\n",
              " 'ها': 102,\n",
              " 'های': 103,\n",
              " 'هلند': 104,\n",
              " 'هم': 105,\n",
              " 'هنرهای': 106,\n",
              " 'هنوز': 107,\n",
              " 'والنسیا': 108,\n",
              " 'والیبال': 109,\n",
              " 'ورزش': 110,\n",
              " 'وقت': 111,\n",
              " 'ولز': 112,\n",
              " 'پارگی': 113,\n",
              " 'پایان': 114,\n",
              " 'پور': 115,\n",
              " 'پیروزی': 116,\n",
              " 'پیوستن': 117,\n",
              " 'ژاپن': 118,\n",
              " 'کاندیدا': 119,\n",
              " 'کریم': 120,\n",
              " 'کیفیت': 121,\n",
              " 'کیلومتر': 122,\n",
              " 'گتوزو': 123,\n",
              " 'گفتند': 124,\n",
              " 'یاد': 125,\n",
              " 'یزدانی': 126,\n",
              " '۴۹': 127}"
            ]
          },
          "execution_count": 64,
          "metadata": {},
          "output_type": "execute_result"
        }
      ],
      "source": [
        "vectorizer = TfidfVectorizer(lowercase=True)\n",
        "vectorizer.fit(doc)\n",
        "vectorizer.vocabulary_"
      ]
    },
    {
      "cell_type": "code",
      "execution_count": null,
      "metadata": {
        "colab": {
          "base_uri": "https://localhost:8080/"
        },
        "id": "4gorj-LjmghU",
        "outputId": "2e572e32-6298-427c-913a-94972bfd8634"
      },
      "outputs": [
        {
          "data": {
            "text/plain": [
              "(scipy.sparse.csr.csr_matrix, (20, 128))"
            ]
          },
          "execution_count": 65,
          "metadata": {},
          "output_type": "execute_result"
        }
      ],
      "source": [
        "doc_tfidf = vectorizer.transform(doc)\n",
        "type(doc_tfidf), doc_tfidf.shape\n"
      ]
    },
    {
      "cell_type": "code",
      "execution_count": null,
      "metadata": {
        "colab": {
          "base_uri": "https://localhost:8080/"
        },
        "id": "fKV6mIU6pK_f",
        "outputId": "f3e0aa7f-c7b6-465f-ae17-c83e8b40bbd7"
      },
      "outputs": [
        {
          "data": {
            "text/plain": [
              "array([[0.        , 0.        , 0.37010128, 0.        , 0.        ,\n",
              "        0.        , 0.        , 0.        , 0.        , 0.        ,\n",
              "        0.        , 0.        , 0.        , 0.        , 0.37010128,\n",
              "        0.37010128, 0.        , 0.        , 0.        , 0.        ,\n",
              "        0.        , 0.        , 0.        , 0.        , 0.        ,\n",
              "        0.        , 0.        , 0.        , 0.        , 0.        ,\n",
              "        0.        , 0.        , 0.        , 0.        , 0.        ,\n",
              "        0.        , 0.        , 0.        , 0.        , 0.        ,\n",
              "        0.        , 0.        , 0.26891286, 0.        , 0.        ,\n",
              "        0.        , 0.        , 0.37010128, 0.        , 0.        ,\n",
              "        0.        , 0.        , 0.        , 0.        , 0.        ,\n",
              "        0.        , 0.        , 0.        , 0.        , 0.        ,\n",
              "        0.        , 0.        , 0.        , 0.        , 0.        ,\n",
              "        0.        , 0.        , 0.        , 0.        , 0.        ,\n",
              "        0.        , 0.        , 0.        , 0.37010128, 0.        ,\n",
              "        0.        , 0.37010128, 0.        , 0.        , 0.        ,\n",
              "        0.        , 0.        , 0.        , 0.        , 0.        ,\n",
              "        0.        , 0.        , 0.        , 0.        , 0.        ,\n",
              "        0.        , 0.        , 0.        , 0.        , 0.        ,\n",
              "        0.        , 0.        , 0.        , 0.        , 0.        ,\n",
              "        0.        , 0.        , 0.        , 0.        , 0.        ,\n",
              "        0.        , 0.        , 0.        , 0.        , 0.        ,\n",
              "        0.        , 0.        , 0.        , 0.        , 0.32532469,\n",
              "        0.        , 0.        , 0.        , 0.        , 0.        ,\n",
              "        0.        , 0.        , 0.        , 0.        , 0.        ,\n",
              "        0.        , 0.        , 0.        ]])"
            ]
          },
          "execution_count": 66,
          "metadata": {},
          "output_type": "execute_result"
        }
      ],
      "source": [
        "doc_tfidf[0].A\n"
      ]
    },
    {
      "cell_type": "code",
      "execution_count": null,
      "metadata": {
        "colab": {
          "base_uri": "https://localhost:8080/"
        },
        "id": "hxBtpDssplkx",
        "outputId": "dd0833af-8ed1-4a00-d792-5ff3a9a3a7e1"
      },
      "outputs": [
        {
          "data": {
            "text/plain": [
              "((20, 128), 128)"
            ]
          },
          "execution_count": 67,
          "metadata": {},
          "output_type": "execute_result"
        }
      ],
      "source": [
        "vectorizer = TfidfVectorizer()\n",
        "tfidf_doc = vectorizer.fit_transform(doc)\n",
        "tfidf_doc.shape, len(vectorizer.vocabulary_)\n"
      ]
    },
    {
      "cell_type": "code",
      "execution_count": null,
      "metadata": {
        "colab": {
          "base_uri": "https://localhost:8080/"
        },
        "id": "5vurgHfTpwpK",
        "outputId": "7ded7ef7-c2de-45b5-c383-7fc9000c26e5"
      },
      "outputs": [
        {
          "data": {
            "text/plain": [
              "['صدرنشینی', 'آمریکا', 'ششمی', 'ایران']"
            ]
          },
          "execution_count": 68,
          "metadata": {},
          "output_type": "execute_result"
        }
      ],
      "source": [
        "list(vectorizer.vocabulary_.keys())[:4]\n"
      ]
    },
    {
      "cell_type": "markdown",
      "metadata": {
        "id": "kk3waWEdqAVb"
      },
      "source": [
        "## **Test a Query**"
      ]
    },
    {
      "cell_type": "code",
      "execution_count": null,
      "metadata": {
        "colab": {
          "base_uri": "https://localhost:8080/"
        },
        "id": "qr0gSg_IqFHJ",
        "outputId": "4184fcc6-e959-44a8-93a5-c99cbb09e253"
      },
      "outputs": [
        {
          "data": {
            "text/plain": [
              "<1x128 sparse matrix of type '<class 'numpy.float64'>'\n",
              "\twith 0 stored elements in Compressed Sparse Row format>"
            ]
          },
          "execution_count": 72,
          "metadata": {},
          "output_type": "execute_result"
        }
      ],
      "source": [
        "query = 'فوتبال'\n",
        "vectorizer.transform([query])[0]"
      ]
    },
    {
      "cell_type": "markdown",
      "metadata": {
        "id": "EK50Cut-qkr6"
      },
      "source": [
        "## **similarities**"
      ]
    },
    {
      "cell_type": "code",
      "execution_count": null,
      "metadata": {
        "colab": {
          "base_uri": "https://localhost:8080/"
        },
        "id": "LF6k8Yluqpcm",
        "outputId": "63c6f482-37b1-4c1b-c842-046770898323"
      },
      "outputs": [
        {
          "name": "stderr",
          "output_type": "stream",
          "text": [
            "20it [00:00, 914.23it/s]\n"
          ]
        }
      ],
      "source": [
        "cosines = []\n",
        "for d in tqdm(tfidf_doc):\n",
        "  cosines.append(float(cosine_similarity(d, tfidf_query)))"
      ]
    },
    {
      "cell_type": "markdown",
      "metadata": {
        "id": "LucFpRu1qwnz"
      },
      "source": [
        "## **Sorting**"
      ]
    },
    {
      "cell_type": "code",
      "execution_count": null,
      "metadata": {
        "colab": {
          "base_uri": "https://localhost:8080/"
        },
        "id": "BRkzMeZ-qzgc",
        "outputId": "c76cc39e-be05-491f-eb22-13a2a7217303"
      },
      "outputs": [
        {
          "name": "stdout",
          "output_type": "stream",
          "text": [
            "0\n",
            "سردار رکورد کریم را نشانه رفته است (عکس) 0.0\n",
            "1\n",
            "ولز 1-2 هلند؛ توفان در وقت‌های اضافه! 0.0\n",
            "2\n",
            "آقاسی: از داخل استقلال به اسکوچیچ دروغ گفتند! 0.0\n",
            "3\n",
            "پایان 500 کیلومتر دوچرخه‌سواری؛ رونالدو به مقصد رسید! 0.0\n"
          ]
        }
      ],
      "source": [
        "k = 4\n",
        "sorted_ids = np.argsort(cosines)\n",
        "for i in range(k):\n",
        "   print(i)\n",
        "   cur_id = sorted_ids[-i-1]\n",
        "   print(doc[cur_id], cosines[cur_id])"
      ]
    }
  ],
  "metadata": {
    "colab": {
      "name": "Untitled2.ipynb",
      "provenance": []
    },
    "kernelspec": {
      "display_name": "Python 3.10.4 64-bit",
      "language": "python",
      "name": "python3"
    },
    "language_info": {
      "codemirror_mode": {
        "name": "ipython",
        "version": 3
      },
      "file_extension": ".py",
      "mimetype": "text/x-python",
      "name": "python",
      "nbconvert_exporter": "python",
      "pygments_lexer": "ipython3",
      "version": "3.10.4"
    },
    "vscode": {
      "interpreter": {
        "hash": "0709bcca36f073e12bb833a42c737ecb5ca4b9234ec8dc5c9cb367ab7e16f56c"
      }
    }
  },
  "nbformat": 4,
  "nbformat_minor": 0
}
