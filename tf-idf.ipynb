{
  "nbformat": 4,
  "nbformat_minor": 0,
  "metadata": {
    "colab": {
      "name": "Untitled2.ipynb",
      "provenance": []
    },
    "kernelspec": {
      "name": "python3",
      "display_name": "Python 3"
    },
    "language_info": {
      "name": "python"
    }
  },
  "cells": [
    {
      "cell_type": "markdown",
      "source": [
        "## **import packages**"
      ],
      "metadata": {
        "id": "3c9t1slDobAd"
      }
    },
    {
      "cell_type": "code",
      "source": [
        "import pandas as pd\n",
        "from sklearn.feature_extraction.text import TfidfVectorizer\n",
        "from sklearn.metrics.pairwise import cosine_similarity\n",
        "from tqdm import tqdm\n",
        "import numpy as np\n"
      ],
      "metadata": {
        "id": "n7aCxkU4ohNy"
      },
      "execution_count": null,
      "outputs": []
    },
    {
      "cell_type": "markdown",
      "source": [
        "## **Read & Load Data**"
      ],
      "metadata": {
        "id": "MUwZiSZHokXy"
      }
    },
    {
      "cell_type": "code",
      "source": [
        "main_doc = pd.read_csv(\"varzesh3.csv\") \n",
        "doc = main_doc.get(key='title')\n"
      ],
      "metadata": {
        "id": "U4VNPV7qoq5O"
      },
      "execution_count": null,
      "outputs": []
    },
    {
      "cell_type": "markdown",
      "source": [
        "## **Tf-idf vectorization**"
      ],
      "metadata": {
        "id": "m4p7fUTzpAXA"
      }
    },
    {
      "cell_type": "code",
      "source": [
        "vectorizer = TfidfVectorizer(lowercase=True)\n",
        "vectorizer.fit(doc)\n",
        "vectorizer.vocabulary_"
      ],
      "metadata": {
        "colab": {
          "base_uri": "https://localhost:8080/"
        },
        "id": "DK6UJ-znpCs6",
        "outputId": "aa6d006c-d130-4f1c-eb26-1b501ba4216c"
      },
      "execution_count": null,
      "outputs": [
        {
          "output_type": "execute_result",
          "data": {
            "text/plain": [
              "{'500': 0,\n",
              " 'آقاسی': 1,\n",
              " 'آمریکا': 2,\n",
              " 'احساسی': 3,\n",
              " 'از': 4,\n",
              " 'است': 5,\n",
              " 'استارت': 6,\n",
              " 'استقلال': 7,\n",
              " 'اسکوچیچ': 8,\n",
              " 'اضافه': 9,\n",
              " 'ام': 10,\n",
              " 'انتخاب': 11,\n",
              " 'انتخابات': 12,\n",
              " 'انگاپت': 13,\n",
              " 'اول': 14,\n",
              " 'ایران': 15,\n",
              " 'با': 16,\n",
              " 'باروز': 17,\n",
              " 'باید': 18,\n",
              " 'با۳': 19,\n",
              " 'برای': 20,\n",
              " 'برنده': 21,\n",
              " 'برگزاری': 22,\n",
              " 'بزرگ': 23,\n",
              " 'بلژیک': 24,\n",
              " 'به': 25,\n",
              " 'بگیریم': 26,\n",
              " 'بیل': 27,\n",
              " 'تمرین': 28,\n",
              " 'توضیح': 29,\n",
              " 'توفان': 30,\n",
              " 'تیلور': 31,\n",
              " 'تیم': 32,\n",
              " 'تیمی': 33,\n",
              " 'جام': 34,\n",
              " 'جهانی': 35,\n",
              " 'جهنم': 36,\n",
              " 'حسن': 37,\n",
              " 'خانه': 38,\n",
              " 'خندان': 39,\n",
              " 'داخل': 40,\n",
              " 'دادیم': 41,\n",
              " 'در': 42,\n",
              " 'درباره': 43,\n",
              " 'درخشش': 44,\n",
              " 'دروغ': 45,\n",
              " 'دوبنده': 46,\n",
              " 'دور': 47,\n",
              " 'دوچرخه': 48,\n",
              " 'رئال': 49,\n",
              " 'را': 50,\n",
              " 'رادار': 51,\n",
              " 'رسمی': 52,\n",
              " 'رسید': 53,\n",
              " 'رفته': 54,\n",
              " 'رفقا': 55,\n",
              " 'رقابت': 56,\n",
              " 'روبرتو': 57,\n",
              " 'رودیگر': 58,\n",
              " 'رونالدو': 59,\n",
              " 'رکورد': 60,\n",
              " 'زور': 61,\n",
              " 'ستارگان': 62,\n",
              " 'سردار': 63,\n",
              " 'سرمربی': 64,\n",
              " 'سلتیکس': 65,\n",
              " 'سه': 66,\n",
              " 'سوارکاری': 67,\n",
              " 'سواری': 68,\n",
              " 'سیاه': 69,\n",
              " 'شد': 70,\n",
              " 'شدند': 71,\n",
              " 'شریفی': 72,\n",
              " 'ششمی': 73,\n",
              " 'شماره': 74,\n",
              " 'شیاطین': 75,\n",
              " 'صدرنشینی': 76,\n",
              " 'عبدالعزیز': 77,\n",
              " 'عجیب': 78,\n",
              " 'علت': 79,\n",
              " 'علیه': 80,\n",
              " 'عکس': 81,\n",
              " 'فاتح': 82,\n",
              " 'قدرت': 83,\n",
              " 'قطر': 84,\n",
              " 'لهستان': 85,\n",
              " 'لوا': 86,\n",
              " 'لیگ': 87,\n",
              " 'مارتینز': 88,\n",
              " 'متوجه': 89,\n",
              " 'مدافع': 90,\n",
              " 'معنای': 91,\n",
              " 'مقصد': 92,\n",
              " 'ملت': 93,\n",
              " 'ملی': 94,\n",
              " 'مهدی': 95,\n",
              " 'نرسید': 96,\n",
              " 'نشان': 97,\n",
              " 'نشانه': 98,\n",
              " 'نشده': 99,\n",
              " 'نیشیدا': 100,\n",
              " 'نیمیر': 101,\n",
              " 'ها': 102,\n",
              " 'های': 103,\n",
              " 'هلند': 104,\n",
              " 'هم': 105,\n",
              " 'هنرهای': 106,\n",
              " 'هنوز': 107,\n",
              " 'والنسیا': 108,\n",
              " 'والیبال': 109,\n",
              " 'ورزش': 110,\n",
              " 'وقت': 111,\n",
              " 'ولز': 112,\n",
              " 'پارگی': 113,\n",
              " 'پایان': 114,\n",
              " 'پور': 115,\n",
              " 'پیروزی': 116,\n",
              " 'پیوستن': 117,\n",
              " 'ژاپن': 118,\n",
              " 'کاندیدا': 119,\n",
              " 'کریم': 120,\n",
              " 'کیفیت': 121,\n",
              " 'کیلومتر': 122,\n",
              " 'گتوزو': 123,\n",
              " 'گفتند': 124,\n",
              " 'یاد': 125,\n",
              " 'یزدانی': 126,\n",
              " '۴۹': 127}"
            ]
          },
          "metadata": {},
          "execution_count": 64
        }
      ]
    },
    {
      "cell_type": "code",
      "execution_count": null,
      "metadata": {
        "colab": {
          "base_uri": "https://localhost:8080/"
        },
        "id": "4gorj-LjmghU",
        "outputId": "2e572e32-6298-427c-913a-94972bfd8634"
      },
      "outputs": [
        {
          "output_type": "execute_result",
          "data": {
            "text/plain": [
              "(scipy.sparse.csr.csr_matrix, (20, 128))"
            ]
          },
          "metadata": {},
          "execution_count": 65
        }
      ],
      "source": [
        "doc_tfidf = vectorizer.transform(doc)\n",
        "type(doc_tfidf), doc_tfidf.shape\n"
      ]
    },
    {
      "cell_type": "code",
      "source": [
        "doc_tfidf[0].A\n"
      ],
      "metadata": {
        "colab": {
          "base_uri": "https://localhost:8080/"
        },
        "id": "fKV6mIU6pK_f",
        "outputId": "f3e0aa7f-c7b6-465f-ae17-c83e8b40bbd7"
      },
      "execution_count": null,
      "outputs": [
        {
          "output_type": "execute_result",
          "data": {
            "text/plain": [
              "array([[0.        , 0.        , 0.37010128, 0.        , 0.        ,\n",
              "        0.        , 0.        , 0.        , 0.        , 0.        ,\n",
              "        0.        , 0.        , 0.        , 0.        , 0.37010128,\n",
              "        0.37010128, 0.        , 0.        , 0.        , 0.        ,\n",
              "        0.        , 0.        , 0.        , 0.        , 0.        ,\n",
              "        0.        , 0.        , 0.        , 0.        , 0.        ,\n",
              "        0.        , 0.        , 0.        , 0.        , 0.        ,\n",
              "        0.        , 0.        , 0.        , 0.        , 0.        ,\n",
              "        0.        , 0.        , 0.26891286, 0.        , 0.        ,\n",
              "        0.        , 0.        , 0.37010128, 0.        , 0.        ,\n",
              "        0.        , 0.        , 0.        , 0.        , 0.        ,\n",
              "        0.        , 0.        , 0.        , 0.        , 0.        ,\n",
              "        0.        , 0.        , 0.        , 0.        , 0.        ,\n",
              "        0.        , 0.        , 0.        , 0.        , 0.        ,\n",
              "        0.        , 0.        , 0.        , 0.37010128, 0.        ,\n",
              "        0.        , 0.37010128, 0.        , 0.        , 0.        ,\n",
              "        0.        , 0.        , 0.        , 0.        , 0.        ,\n",
              "        0.        , 0.        , 0.        , 0.        , 0.        ,\n",
              "        0.        , 0.        , 0.        , 0.        , 0.        ,\n",
              "        0.        , 0.        , 0.        , 0.        , 0.        ,\n",
              "        0.        , 0.        , 0.        , 0.        , 0.        ,\n",
              "        0.        , 0.        , 0.        , 0.        , 0.        ,\n",
              "        0.        , 0.        , 0.        , 0.        , 0.32532469,\n",
              "        0.        , 0.        , 0.        , 0.        , 0.        ,\n",
              "        0.        , 0.        , 0.        , 0.        , 0.        ,\n",
              "        0.        , 0.        , 0.        ]])"
            ]
          },
          "metadata": {},
          "execution_count": 66
        }
      ]
    },
    {
      "cell_type": "code",
      "source": [
        "vectorizer = TfidfVectorizer()\n",
        "tfidf_doc = vectorizer.fit_transform(doc)\n",
        "tfidf_doc.shape, len(vectorizer.vocabulary_)\n"
      ],
      "metadata": {
        "colab": {
          "base_uri": "https://localhost:8080/"
        },
        "id": "hxBtpDssplkx",
        "outputId": "dd0833af-8ed1-4a00-d792-5ff3a9a3a7e1"
      },
      "execution_count": null,
      "outputs": [
        {
          "output_type": "execute_result",
          "data": {
            "text/plain": [
              "((20, 128), 128)"
            ]
          },
          "metadata": {},
          "execution_count": 67
        }
      ]
    },
    {
      "cell_type": "code",
      "source": [
        "list(vectorizer.vocabulary_.keys())[:4]\n"
      ],
      "metadata": {
        "colab": {
          "base_uri": "https://localhost:8080/"
        },
        "id": "5vurgHfTpwpK",
        "outputId": "7ded7ef7-c2de-45b5-c383-7fc9000c26e5"
      },
      "execution_count": null,
      "outputs": [
        {
          "output_type": "execute_result",
          "data": {
            "text/plain": [
              "['صدرنشینی', 'آمریکا', 'ششمی', 'ایران']"
            ]
          },
          "metadata": {},
          "execution_count": 68
        }
      ]
    },
    {
      "cell_type": "markdown",
      "source": [
        "## **Test a Query**"
      ],
      "metadata": {
        "id": "kk3waWEdqAVb"
      }
    },
    {
      "cell_type": "code",
      "source": [
        "query = 'فوتبال'\n",
        "vectorizer.transform([query])[0]"
      ],
      "metadata": {
        "colab": {
          "base_uri": "https://localhost:8080/"
        },
        "id": "qr0gSg_IqFHJ",
        "outputId": "4184fcc6-e959-44a8-93a5-c99cbb09e253"
      },
      "execution_count": null,
      "outputs": [
        {
          "output_type": "execute_result",
          "data": {
            "text/plain": [
              "<1x128 sparse matrix of type '<class 'numpy.float64'>'\n",
              "\twith 0 stored elements in Compressed Sparse Row format>"
            ]
          },
          "metadata": {},
          "execution_count": 72
        }
      ]
    },
    {
      "cell_type": "markdown",
      "source": [
        "## **similarities**"
      ],
      "metadata": {
        "id": "EK50Cut-qkr6"
      }
    },
    {
      "cell_type": "code",
      "source": [
        "cosines = []\n",
        "for d in tqdm(tfidf_doc):\n",
        "  cosines.append(float(cosine_similarity(d, tfidf_query)))"
      ],
      "metadata": {
        "colab": {
          "base_uri": "https://localhost:8080/"
        },
        "id": "LF6k8Yluqpcm",
        "outputId": "63c6f482-37b1-4c1b-c842-046770898323"
      },
      "execution_count": null,
      "outputs": [
        {
          "output_type": "stream",
          "name": "stderr",
          "text": [
            "20it [00:00, 914.23it/s]\n"
          ]
        }
      ]
    },
    {
      "cell_type": "markdown",
      "source": [
        "## **Sorting**"
      ],
      "metadata": {
        "id": "LucFpRu1qwnz"
      }
    },
    {
      "cell_type": "code",
      "source": [
        "k = 4\n",
        "sorted_ids = np.argsort(cosines)\n",
        "for i in range(k):\n",
        "   print(i)\n",
        "   cur_id = sorted_ids[-i-1]\n",
        "   print(doc[cur_id], cosines[cur_id])"
      ],
      "metadata": {
        "colab": {
          "base_uri": "https://localhost:8080/"
        },
        "id": "BRkzMeZ-qzgc",
        "outputId": "c76cc39e-be05-491f-eb22-13a2a7217303"
      },
      "execution_count": null,
      "outputs": [
        {
          "output_type": "stream",
          "name": "stdout",
          "text": [
            "0\n",
            "سردار رکورد کریم را نشانه رفته است (عکس) 0.0\n",
            "1\n",
            "ولز 1-2 هلند؛ توفان در وقت‌های اضافه! 0.0\n",
            "2\n",
            "آقاسی: از داخل استقلال به اسکوچیچ دروغ گفتند! 0.0\n",
            "3\n",
            "پایان 500 کیلومتر دوچرخه‌سواری؛ رونالدو به مقصد رسید! 0.0\n"
          ]
        }
      ]
    }
  ]
}